{
 "cells": [
  {
   "cell_type": "code",
   "execution_count": 9,
   "metadata": {
    "collapsed": true
   },
   "outputs": [],
   "source": [
    "#Import essential libraries\n",
    "\n",
    "import numpy as np\n",
    "import matplotlib.pylab as plb\n",
    "from IPython.core.debugger import Tracer # for debugging"
   ]
  },
  {
   "cell_type": "code",
   "execution_count": 18,
   "metadata": {
    "collapsed": true
   },
   "outputs": [],
   "source": [
    "#Define Used Functions\n",
    "\n",
    "def gauss(x,p):\n",
    "    \"\"\"Return the gauss function N(x), with mean p[0] and std p[1].\n",
    "    Normalized such that N(x=p[0]) = 1.\n",
    "    \"\"\"\n",
    "    return np.exp((-(x - p[0])**2) / (2 * p[1]**2))\n",
    "\n",
    "def som_step(centers,data,neighbor,eta,sigma):\n",
    "    \"\"\"Performs one step of the sequential learning for a \n",
    "    self-organized map (SOM).\n",
    "    \n",
    "      centers = som_step(centers,data,neighbor,eta,sigma)\n",
    "    \n",
    "      Input and output arguments: \n",
    "       centers  (matrix) cluster centres. Have to be in format:\n",
    "                         center X dimension\n",
    "       data     (vector) the actually presented datapoint to be presented in\n",
    "                         this timestep\n",
    "       neighbor (matrix) the coordinates of the centers in the desired\n",
    "                         neighborhood.\n",
    "       eta      (scalar) a learning rate\n",
    "       sigma    (scalar) the width of the gaussian neighborhood function.\n",
    "                         Effectively describing the width of the neighborhood\n",
    "    \"\"\"\n",
    "    \n",
    "    size_k = int(np.sqrt(len(centers)))\n",
    "    \n",
    "    #find the best matching unit via the minimal distance to the datapoint\n",
    "    b = np.argmin(np.sum((centers - np.resize(data, (size_k**2, data.size)))**2,1))\n",
    "\n",
    "    # find coordinates of the winner\n",
    "    a,b = np.nonzero(neighbor == b)\n",
    "        \n",
    "    # update all units\n",
    "    for j in range(size_k**2):\n",
    "        # find coordinates of this unit\n",
    "        a1,b1 = np.nonzero(neighbor==j)\n",
    "        # calculate the distance and discounting factor\n",
    "        disc=gauss(np.sqrt((a-a1)**2+(b-b1)**2),[0, sigma])\n",
    "        # update weights        \n",
    "        centers[j,:] += disc * eta * (data - centers[j,:])\n",
    "        \n",
    "def name2digits(name):\n",
    "    \"\"\" takes a string NAME and converts it into a pseudo-random selection of 4\n",
    "     digits from 0-9.\n",
    "     \n",
    "     Example:\n",
    "     name2digits('Felipe Gerhard')\n",
    "     returns: [0 4 5 7]\n",
    "     \"\"\"\n",
    "    \n",
    "    name = name.lower()\n",
    "    \n",
    "    if len(name)>25:\n",
    "        name = name[0:25]\n",
    "        \n",
    "    primenumbers = [2,3,5,7,11,13,17,19,23,29,31,37,41,43,47,53,59,61,67,71,73,79,83,89,97]\n",
    "    \n",
    "    n = len(name)\n",
    "    \n",
    "    s = 0.0\n",
    "    \n",
    "    for i in range(n):\n",
    "        s += primenumbers[i]*ord(name[i])*2.0**(i+1)\n",
    "\n",
    "    import scipy.io.matlab\n",
    "    Data = scipy.io.matlab.loadmat('hash.mat',struct_as_record=True)\n",
    "    x = Data['x']\n",
    "    t = np.mod(s,x.shape[0])\n",
    "\n",
    "    return np.sort(x[t,:])"
   ]
  },
  {
   "cell_type": "code",
   "execution_count": 63,
   "metadata": {
    "collapsed": true
   },
   "outputs": [],
   "source": [
    "def kohonen():\n",
    "    \"\"\"Example for using create_data, plot_data and som_step.\n",
    "    \"\"\"\n",
    "    plb.close('all')\n",
    "    \n",
    "    dim = 28*28\n",
    "    data_range = 255.0\n",
    "    \n",
    "    # load in data and labels    \n",
    "    data = np.array(np.loadtxt('data.txt'))\n",
    "    labels = np.loadtxt('labels.txt')\n",
    "\n",
    "    # select 4 digits    \n",
    "    name = 'Mateusz Paluchowski' # REPLACE BY YOUR OWN NAME\n",
    "    targetdigits = name2digits(name) # assign the four digits that should be used\n",
    "    print(targetdigits) # output the digits that were selected\n",
    "    # this selects all data vectors that corresponds to one of the four digits\n",
    "    data = data[np.logical_or.reduce([labels==x for x in targetdigits]),:]\n",
    "    \n",
    "    dy, dx = data.shape\n",
    "    \n",
    "    #set the size of the Kohonen map. In this case it will be 6 X 6\n",
    "    size_k = 6\n",
    "    \n",
    "    #set the width of the neighborhood via the width of the gaussian that\n",
    "    #describes it\n",
    "    sigma = 3.0\n",
    "    \n",
    "    #initialise the centers randomly\n",
    "    centers = np.random.rand(size_k**2, dim) * data_range\n",
    "    \n",
    "    #build a neighborhood matrix\n",
    "    neighbor = np.arange(size_k**2).reshape((size_k, size_k))\n",
    "\n",
    "    #set the learning rate\n",
    "    eta = 0.5 # HERE YOU HAVE TO SET YOUR OWN LEARNING RATE\n",
    "    \n",
    "    #set the maximal iteration count\n",
    "    tmax = 50000 # this might or might not work; use your own convergence criterion\n",
    "    \n",
    "    #set the random order in which the datapoints should be presented\n",
    "    i_random = np.arange(tmax) % dy\n",
    "    np.random.shuffle(i_random)\n",
    "    \n",
    "    for t, i in enumerate(i_random):\n",
    "        old_centers = np.copy(centers)\n",
    "        som_step(centers, data[i,:],neighbor,eta,sigma)\n",
    "        if abs(np.sum(old_centers - centers)) < 92000: # find out whats the right convergence criterion\n",
    "            print(np.sum(old_centers - centers))\n",
    "            print('Elapsed iterations: ', i)\n",
    "            break\n",
    "    print(abs(np.sum(old_centers - centers)))\n",
    "    \n",
    "    # for visualization, you can use this:\n",
    "    for i in range(1, size_k**2 + 1):\n",
    "        plb.subplot(size_k,size_k,i)\n",
    "        \n",
    "        plb.imshow(np.reshape(centers[i-1,:], [28, 28]),interpolation='bilinear')\n",
    "        plb.axis('off')\n",
    "        \n",
    "    # leave the window open at the end of the loop\n",
    "    plb.show()\n",
    "    plb.draw()"
   ]
  },
  {
   "cell_type": "code",
   "execution_count": 64,
   "metadata": {
    "collapsed": false
   },
   "outputs": [
    {
     "name": "stderr",
     "output_type": "stream",
     "text": [
      "//anaconda/lib/python3.5/site-packages/ipykernel/__main__.py:72: VisibleDeprecationWarning: using a non-integer number instead of an integer will result in an error in the future\n"
     ]
    },
    {
     "name": "stdout",
     "output_type": "stream",
     "text": [
      "[3 5 6 8]\n",
      "21610.2430844\n",
      "Elapsed iterations:  1209\n",
      "21610.2430844\n"
     ]
    }
   ],
   "source": [
    "kohonen()"
   ]
  },
  {
   "cell_type": "code",
   "execution_count": null,
   "metadata": {
    "collapsed": true
   },
   "outputs": [],
   "source": []
  }
 ],
 "metadata": {
  "anaconda-cloud": {},
  "kernelspec": {
   "display_name": "Python [Root]",
   "language": "python",
   "name": "Python [Root]"
  },
  "language_info": {
   "codemirror_mode": {
    "name": "ipython",
    "version": 3
   },
   "file_extension": ".py",
   "mimetype": "text/x-python",
   "name": "python",
   "nbconvert_exporter": "python",
   "pygments_lexer": "ipython3",
   "version": "3.5.2"
  }
 },
 "nbformat": 4,
 "nbformat_minor": 0
}
